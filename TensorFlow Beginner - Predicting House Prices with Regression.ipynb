{
 "cells": [
  {
   "cell_type": "markdown",
   "metadata": {},
   "source": [
    "# Task 1: Introduction\n",
    "\n",
    "---\n",
    "\n",
    "For this project, we are going to work on evaluating price of houses given the following features:\n",
    "\n",
    "1. Year of sale of the house\n",
    "2. The age of the house at the time of sale\n",
    "3. Distance from city center\n",
    "4. Number of stores in the locality\n",
    "5. The latitude\n",
    "6. The longitude\n",
    "\n",
    "![Regression](images/regression.png)\n",
    "\n",
    "Note: This notebook uses `python 3` and these packages: `tensorflow`, `pandas`, `matplotlib`, `scikit-learn`."
   ]
  },
  {
   "cell_type": "markdown",
   "metadata": {},
   "source": [
    "## 1.1: Importing Libraries & Helper Functions\n",
    "\n",
    "First of all, we will need to import some libraries and helper functions. This includes TensorFlow and some utility functions that I've written to save time."
   ]
  },
  {
   "cell_type": "code",
   "execution_count": 1,
   "metadata": {},
   "outputs": [
    {
     "name": "stdout",
     "output_type": "stream",
     "text": [
      "Libraries imported.\n"
     ]
    }
   ],
   "source": [
    "import pandas as pd\n",
    "import matplotlib.pyplot as plt\n",
    "import tensorflow as tf\n",
    "\n",
    "from utils import *\n",
    "from sklearn.model_selection import train_test_split\n",
    "from tensorflow.keras.models import Sequential\n",
    "from tensorflow.keras.layers import Dense, Dropout\n",
    "from tensorflow.keras.callbacks import EarlyStopping, LambdaCallback\n",
    "\n",
    "%matplotlib inline\n",
    "tf.logging.set_verbosity(tf.logging.ERROR)\n",
    "\n",
    "print('Libraries imported.')"
   ]
  },
  {
   "cell_type": "markdown",
   "metadata": {},
   "source": [
    "# Task 2: Importing the Data"
   ]
  },
  {
   "cell_type": "markdown",
   "metadata": {},
   "source": [
    "## 2.1: Importing the Data\n",
    "\n",
    "The dataset is saved in a `data.csv` file. We will use `pandas` to take a look at some of the rows."
   ]
  },
  {
   "cell_type": "code",
   "execution_count": 2,
   "metadata": {},
   "outputs": [
    {
     "data": {
      "text/html": [
       "<div>\n",
       "<style scoped>\n",
       "    .dataframe tbody tr th:only-of-type {\n",
       "        vertical-align: middle;\n",
       "    }\n",
       "\n",
       "    .dataframe tbody tr th {\n",
       "        vertical-align: top;\n",
       "    }\n",
       "\n",
       "    .dataframe thead th {\n",
       "        text-align: right;\n",
       "    }\n",
       "</style>\n",
       "<table border=\"1\" class=\"dataframe\">\n",
       "  <thead>\n",
       "    <tr style=\"text-align: right;\">\n",
       "      <th></th>\n",
       "      <th>serial</th>\n",
       "      <th>date</th>\n",
       "      <th>age</th>\n",
       "      <th>distance</th>\n",
       "      <th>stores</th>\n",
       "      <th>latitude</th>\n",
       "      <th>longitude</th>\n",
       "      <th>price</th>\n",
       "    </tr>\n",
       "  </thead>\n",
       "  <tbody>\n",
       "    <tr>\n",
       "      <th>0</th>\n",
       "      <td>0</td>\n",
       "      <td>2009</td>\n",
       "      <td>21</td>\n",
       "      <td>9</td>\n",
       "      <td>6</td>\n",
       "      <td>84</td>\n",
       "      <td>121</td>\n",
       "      <td>14264</td>\n",
       "    </tr>\n",
       "    <tr>\n",
       "      <th>1</th>\n",
       "      <td>1</td>\n",
       "      <td>2007</td>\n",
       "      <td>4</td>\n",
       "      <td>2</td>\n",
       "      <td>3</td>\n",
       "      <td>86</td>\n",
       "      <td>121</td>\n",
       "      <td>12032</td>\n",
       "    </tr>\n",
       "    <tr>\n",
       "      <th>2</th>\n",
       "      <td>2</td>\n",
       "      <td>2016</td>\n",
       "      <td>18</td>\n",
       "      <td>3</td>\n",
       "      <td>7</td>\n",
       "      <td>90</td>\n",
       "      <td>120</td>\n",
       "      <td>13560</td>\n",
       "    </tr>\n",
       "    <tr>\n",
       "      <th>3</th>\n",
       "      <td>3</td>\n",
       "      <td>2002</td>\n",
       "      <td>13</td>\n",
       "      <td>2</td>\n",
       "      <td>2</td>\n",
       "      <td>80</td>\n",
       "      <td>128</td>\n",
       "      <td>12029</td>\n",
       "    </tr>\n",
       "    <tr>\n",
       "      <th>4</th>\n",
       "      <td>4</td>\n",
       "      <td>2014</td>\n",
       "      <td>25</td>\n",
       "      <td>5</td>\n",
       "      <td>8</td>\n",
       "      <td>81</td>\n",
       "      <td>122</td>\n",
       "      <td>14157</td>\n",
       "    </tr>\n",
       "  </tbody>\n",
       "</table>\n",
       "</div>"
      ],
      "text/plain": [
       "   serial  date  age  distance  stores  latitude  longitude  price\n",
       "0       0  2009   21         9       6        84        121  14264\n",
       "1       1  2007    4         2       3        86        121  12032\n",
       "2       2  2016   18         3       7        90        120  13560\n",
       "3       3  2002   13         2       2        80        128  12029\n",
       "4       4  2014   25         5       8        81        122  14157"
      ]
     },
     "execution_count": 2,
     "metadata": {},
     "output_type": "execute_result"
    }
   ],
   "source": [
    "df = pd.read_csv(\"data.csv\",names = column_names)\n",
    "df.head()"
   ]
  },
  {
   "cell_type": "markdown",
   "metadata": {},
   "source": [
    "## 2.2: Check Missing Data\n",
    "\n",
    "It's a good practice to check if the data has any missing values. In real world data, this is quite common and must be taken care of before any data pre-processing or model training."
   ]
  },
  {
   "cell_type": "code",
   "execution_count": 5,
   "metadata": {},
   "outputs": [
    {
     "data": {
      "text/plain": [
       "serial       0\n",
       "date         0\n",
       "age          0\n",
       "distance     0\n",
       "stores       0\n",
       "latitude     0\n",
       "longitude    0\n",
       "price        0\n",
       "dtype: int64"
      ]
     },
     "execution_count": 5,
     "metadata": {},
     "output_type": "execute_result"
    }
   ],
   "source": [
    "df.isna().sum()"
   ]
  },
  {
   "cell_type": "markdown",
   "metadata": {},
   "source": [
    "# Task 3: Data Normalization"
   ]
  },
  {
   "cell_type": "markdown",
   "metadata": {},
   "source": [
    "## 3.1: Data Normalization\n",
    "\n",
    "We can make it easier for optimization algorithms to find minimas by normalizing the data before training a model."
   ]
  },
  {
   "cell_type": "code",
   "execution_count": 6,
   "metadata": {},
   "outputs": [
    {
     "data": {
      "text/html": [
       "<div>\n",
       "<style scoped>\n",
       "    .dataframe tbody tr th:only-of-type {\n",
       "        vertical-align: middle;\n",
       "    }\n",
       "\n",
       "    .dataframe tbody tr th {\n",
       "        vertical-align: top;\n",
       "    }\n",
       "\n",
       "    .dataframe thead th {\n",
       "        text-align: right;\n",
       "    }\n",
       "</style>\n",
       "<table border=\"1\" class=\"dataframe\">\n",
       "  <thead>\n",
       "    <tr style=\"text-align: right;\">\n",
       "      <th></th>\n",
       "      <th>date</th>\n",
       "      <th>age</th>\n",
       "      <th>distance</th>\n",
       "      <th>stores</th>\n",
       "      <th>latitude</th>\n",
       "      <th>longitude</th>\n",
       "      <th>price</th>\n",
       "    </tr>\n",
       "  </thead>\n",
       "  <tbody>\n",
       "    <tr>\n",
       "      <th>0</th>\n",
       "      <td>0.015978</td>\n",
       "      <td>0.181384</td>\n",
       "      <td>1.257002</td>\n",
       "      <td>0.345224</td>\n",
       "      <td>-0.307212</td>\n",
       "      <td>-1.260799</td>\n",
       "      <td>0.350088</td>\n",
       "    </tr>\n",
       "    <tr>\n",
       "      <th>1</th>\n",
       "      <td>-0.350485</td>\n",
       "      <td>-1.319118</td>\n",
       "      <td>-0.930610</td>\n",
       "      <td>-0.609312</td>\n",
       "      <td>0.325301</td>\n",
       "      <td>-1.260799</td>\n",
       "      <td>-1.836486</td>\n",
       "    </tr>\n",
       "    <tr>\n",
       "      <th>2</th>\n",
       "      <td>1.298598</td>\n",
       "      <td>-0.083410</td>\n",
       "      <td>-0.618094</td>\n",
       "      <td>0.663402</td>\n",
       "      <td>1.590328</td>\n",
       "      <td>-1.576456</td>\n",
       "      <td>-0.339584</td>\n",
       "    </tr>\n",
       "    <tr>\n",
       "      <th>3</th>\n",
       "      <td>-1.266643</td>\n",
       "      <td>-0.524735</td>\n",
       "      <td>-0.930610</td>\n",
       "      <td>-0.927491</td>\n",
       "      <td>-1.572238</td>\n",
       "      <td>0.948803</td>\n",
       "      <td>-1.839425</td>\n",
       "    </tr>\n",
       "    <tr>\n",
       "      <th>4</th>\n",
       "      <td>0.932135</td>\n",
       "      <td>0.534444</td>\n",
       "      <td>0.006938</td>\n",
       "      <td>0.981581</td>\n",
       "      <td>-1.255981</td>\n",
       "      <td>-0.945141</td>\n",
       "      <td>0.245266</td>\n",
       "    </tr>\n",
       "  </tbody>\n",
       "</table>\n",
       "</div>"
      ],
      "text/plain": [
       "       date       age  distance    stores  latitude  longitude     price\n",
       "0  0.015978  0.181384  1.257002  0.345224 -0.307212  -1.260799  0.350088\n",
       "1 -0.350485 -1.319118 -0.930610 -0.609312  0.325301  -1.260799 -1.836486\n",
       "2  1.298598 -0.083410 -0.618094  0.663402  1.590328  -1.576456 -0.339584\n",
       "3 -1.266643 -0.524735 -0.930610 -0.927491 -1.572238   0.948803 -1.839425\n",
       "4  0.932135  0.534444  0.006938  0.981581 -1.255981  -0.945141  0.245266"
      ]
     },
     "execution_count": 6,
     "metadata": {},
     "output_type": "execute_result"
    }
   ],
   "source": [
    "df = df.iloc[:, 1:]\n",
    "df_norm = (df -df.mean())/df.std()\n",
    "df_norm.head()"
   ]
  },
  {
   "cell_type": "markdown",
   "metadata": {},
   "source": [
    "## 3.2: Convert Label Value\n",
    "\n",
    "Because we are using normalized values for the labels, we will get the predictions back from a trained model in the same distribution. So, we need to convert the predicted values back to the original distribution if we want predicted prices."
   ]
  },
  {
   "cell_type": "code",
   "execution_count": 7,
   "metadata": {},
   "outputs": [
    {
     "name": "stdout",
     "output_type": "stream",
     "text": [
      "14263\n"
     ]
    }
   ],
   "source": [
    "y_mean = df['price'].mean()\n",
    "y_std = df['price'].std()\n",
    "\n",
    "def convert_label_value(pred):\n",
    "    return int(pred * y_std +y_mean)\n",
    "\n",
    "print(convert_label_value(0.350088))"
   ]
  },
  {
   "cell_type": "markdown",
   "metadata": {},
   "source": [
    "# Task 4: Create Training and Test Sets"
   ]
  },
  {
   "cell_type": "markdown",
   "metadata": {},
   "source": [
    "## 4.1: Select Features\n",
    "\n",
    "Make sure to remove the column __price__ from the list of features as it is the label and should not be used as a feature."
   ]
  },
  {
   "cell_type": "code",
   "execution_count": 8,
   "metadata": {},
   "outputs": [
    {
     "data": {
      "text/html": [
       "<div>\n",
       "<style scoped>\n",
       "    .dataframe tbody tr th:only-of-type {\n",
       "        vertical-align: middle;\n",
       "    }\n",
       "\n",
       "    .dataframe tbody tr th {\n",
       "        vertical-align: top;\n",
       "    }\n",
       "\n",
       "    .dataframe thead th {\n",
       "        text-align: right;\n",
       "    }\n",
       "</style>\n",
       "<table border=\"1\" class=\"dataframe\">\n",
       "  <thead>\n",
       "    <tr style=\"text-align: right;\">\n",
       "      <th></th>\n",
       "      <th>date</th>\n",
       "      <th>age</th>\n",
       "      <th>distance</th>\n",
       "      <th>stores</th>\n",
       "      <th>latitude</th>\n",
       "      <th>longitude</th>\n",
       "    </tr>\n",
       "  </thead>\n",
       "  <tbody>\n",
       "    <tr>\n",
       "      <th>0</th>\n",
       "      <td>0.015978</td>\n",
       "      <td>0.181384</td>\n",
       "      <td>1.257002</td>\n",
       "      <td>0.345224</td>\n",
       "      <td>-0.307212</td>\n",
       "      <td>-1.260799</td>\n",
       "    </tr>\n",
       "    <tr>\n",
       "      <th>1</th>\n",
       "      <td>-0.350485</td>\n",
       "      <td>-1.319118</td>\n",
       "      <td>-0.930610</td>\n",
       "      <td>-0.609312</td>\n",
       "      <td>0.325301</td>\n",
       "      <td>-1.260799</td>\n",
       "    </tr>\n",
       "    <tr>\n",
       "      <th>2</th>\n",
       "      <td>1.298598</td>\n",
       "      <td>-0.083410</td>\n",
       "      <td>-0.618094</td>\n",
       "      <td>0.663402</td>\n",
       "      <td>1.590328</td>\n",
       "      <td>-1.576456</td>\n",
       "    </tr>\n",
       "    <tr>\n",
       "      <th>3</th>\n",
       "      <td>-1.266643</td>\n",
       "      <td>-0.524735</td>\n",
       "      <td>-0.930610</td>\n",
       "      <td>-0.927491</td>\n",
       "      <td>-1.572238</td>\n",
       "      <td>0.948803</td>\n",
       "    </tr>\n",
       "    <tr>\n",
       "      <th>4</th>\n",
       "      <td>0.932135</td>\n",
       "      <td>0.534444</td>\n",
       "      <td>0.006938</td>\n",
       "      <td>0.981581</td>\n",
       "      <td>-1.255981</td>\n",
       "      <td>-0.945141</td>\n",
       "    </tr>\n",
       "  </tbody>\n",
       "</table>\n",
       "</div>"
      ],
      "text/plain": [
       "       date       age  distance    stores  latitude  longitude\n",
       "0  0.015978  0.181384  1.257002  0.345224 -0.307212  -1.260799\n",
       "1 -0.350485 -1.319118 -0.930610 -0.609312  0.325301  -1.260799\n",
       "2  1.298598 -0.083410 -0.618094  0.663402  1.590328  -1.576456\n",
       "3 -1.266643 -0.524735 -0.930610 -0.927491 -1.572238   0.948803\n",
       "4  0.932135  0.534444  0.006938  0.981581 -1.255981  -0.945141"
      ]
     },
     "execution_count": 8,
     "metadata": {},
     "output_type": "execute_result"
    }
   ],
   "source": [
    "x = df_norm.iloc[:,:6]\n",
    "x.head()"
   ]
  },
  {
   "cell_type": "markdown",
   "metadata": {},
   "source": [
    "## 4.2: Select Labels"
   ]
  },
  {
   "cell_type": "code",
   "execution_count": 9,
   "metadata": {},
   "outputs": [
    {
     "data": {
      "text/plain": [
       "0    0.350088\n",
       "1   -1.836486\n",
       "2   -0.339584\n",
       "3   -1.839425\n",
       "4    0.245266\n",
       "Name: price, dtype: float64"
      ]
     },
     "execution_count": 9,
     "metadata": {},
     "output_type": "execute_result"
    }
   ],
   "source": [
    "y = df_norm.iloc[:,-1]\n",
    "y.head()"
   ]
  },
  {
   "cell_type": "markdown",
   "metadata": {},
   "source": [
    "## 4.3: Feature and Label Values\n",
    "\n",
    "We will need to extract just the numeric values for the features and labels as the TensorFlow model will expect just numeric values as input."
   ]
  },
  {
   "cell_type": "code",
   "execution_count": 11,
   "metadata": {},
   "outputs": [
    {
     "name": "stdout",
     "output_type": "stream",
     "text": [
      "features array shape (5000, 6)\n",
      "labels array shape (5000,)\n"
     ]
    }
   ],
   "source": [
    "x_arr = x.values\n",
    "y_arr = y.values\n",
    "\n",
    "print(\"features array shape:\",x_arr.shape)\n",
    "print(\"labels array shape:\", y_arr.shape)"
   ]
  },
  {
   "cell_type": "markdown",
   "metadata": {},
   "source": [
    "## 4.4: Train and Test Split\n",
    "\n",
    "We will keep some part of the data aside as a __test__ set. The model will not use this set during training and it will be used only for checking the performance of the model in trained and un-trained states. This way, we can make sure that we are going in the right direction with our model training."
   ]
  },
  {
   "cell_type": "code",
   "execution_count": 12,
   "metadata": {},
   "outputs": [
    {
     "name": "stdout",
     "output_type": "stream",
     "text": [
      "Training set: (4750, 6) (4750,)\n",
      "Test set: (250, 6) (250,)\n"
     ]
    }
   ],
   "source": [
    "x_train, x_test, y_train, y_test = train_test_split(x_arr,y_arr, test_size=0.05, random_state=0)\n",
    "\n",
    "print(\"Training set:\", x_train.shape, y_train.shape)\n",
    "print(\"Test set:\", x_test.shape, y_test.shape)"
   ]
  },
  {
   "cell_type": "markdown",
   "metadata": {},
   "source": [
    "# Task 5: Create the Model"
   ]
  },
  {
   "cell_type": "markdown",
   "metadata": {},
   "source": [
    "## 5.1: Create the Model\n",
    "\n",
    "Let's write a function that returns an untrained model of a certain architecture."
   ]
  },
  {
   "cell_type": "code",
   "execution_count": 19,
   "metadata": {},
   "outputs": [
    {
     "name": "stdout",
     "output_type": "stream",
     "text": [
      "_________________________________________________________________\n",
      "Layer (type)                 Output Shape              Param #   \n",
      "=================================================================\n",
      "dense (Dense)                (None, 10)                70        \n",
      "_________________________________________________________________\n",
      "dense_1 (Dense)              (None, 20)                220       \n",
      "_________________________________________________________________\n",
      "dense_2 (Dense)              (None, 5)                 105       \n",
      "_________________________________________________________________\n",
      "dense_3 (Dense)              (None, 1)                 6         \n",
      "=================================================================\n",
      "Total params: 401\n",
      "Trainable params: 401\n",
      "Non-trainable params: 0\n",
      "_________________________________________________________________\n"
     ]
    }
   ],
   "source": [
    "def get_model():\n",
    "    model = Sequential([\n",
    "        Dense(10, input_shape = (6,), activation=\"relu\"),\n",
    "        Dense(20, activation=\"relu\"),\n",
    "        Dense(5, activation=\"relu\"),\n",
    "        Dense(1)   \n",
    "    ])\n",
    "    model.compile(\n",
    "        loss=\"mse\",\n",
    "        optimizer=\"adam\"\n",
    "    )\n",
    "    return model\n",
    "get_model().summary()"
   ]
  },
  {
   "cell_type": "markdown",
   "metadata": {},
   "source": [
    "# Task 6: Model Training"
   ]
  },
  {
   "cell_type": "markdown",
   "metadata": {},
   "source": [
    "## 6.1: Model Training\n",
    "\n",
    "We can use an `EarlyStopping` callback from Keras to stop the model training if the validation loss stops decreasing for a few epochs."
   ]
  },
  {
   "cell_type": "code",
   "execution_count": 21,
   "metadata": {},
   "outputs": [
    {
     "name": "stdout",
     "output_type": "stream",
     "text": [
      "Train on 4750 samples, validate on 250 samples\n",
      "Epoch 1/100\n",
      "4750/4750 [==============================] - 2s 427us/sample - loss: 0.7368 - val_loss: 0.2857\n",
      "Epoch 2/100\n",
      "4750/4750 [==============================] - 0s 53us/sample - loss: 0.2945 - val_loss: 0.2100\n",
      "Epoch 3/100\n",
      "4750/4750 [==============================] - 0s 71us/sample - loss: 0.2111 - val_loss: 0.1844\n",
      "Epoch 4/100\n",
      "4750/4750 [==============================] - 0s 47us/sample - loss: 0.1828 - val_loss: 0.1761\n",
      "Epoch 5/100\n",
      "4750/4750 [==============================] - 0s 41us/sample - loss: 0.1718 - val_loss: 0.1698\n",
      "Epoch 6/100\n",
      "4750/4750 [==============================] - 0s 41us/sample - loss: 0.1676 - val_loss: 0.1652\n",
      "Epoch 7/100\n",
      "4750/4750 [==============================] - 0s 43us/sample - loss: 0.1646 - val_loss: 0.1640\n",
      "Epoch 8/100\n",
      "4750/4750 [==============================] - 0s 44us/sample - loss: 0.1625 - val_loss: 0.1585\n",
      "Epoch 9/100\n",
      "4750/4750 [==============================] - 0s 44us/sample - loss: 0.1602 - val_loss: 0.1557\n",
      "Epoch 10/100\n",
      "4750/4750 [==============================] - 0s 43us/sample - loss: 0.1587 - val_loss: 0.1555\n",
      "Epoch 11/100\n",
      "4750/4750 [==============================] - 0s 42us/sample - loss: 0.1575 - val_loss: 0.1534\n",
      "Epoch 12/100\n",
      "4750/4750 [==============================] - 0s 43us/sample - loss: 0.1566 - val_loss: 0.1549\n",
      "Epoch 13/100\n",
      "4750/4750 [==============================] - 0s 41us/sample - loss: 0.1566 - val_loss: 0.1538\n",
      "Epoch 14/100\n",
      "4750/4750 [==============================] - 0s 40us/sample - loss: 0.1556 - val_loss: 0.1502\n",
      "Epoch 15/100\n",
      "4750/4750 [==============================] - 0s 39us/sample - loss: 0.1551 - val_loss: 0.1516\n",
      "Epoch 16/100\n",
      "4750/4750 [==============================] - 0s 41us/sample - loss: 0.1551 - val_loss: 0.1533\n",
      "Epoch 17/100\n",
      "4750/4750 [==============================] - 0s 49us/sample - loss: 0.1536 - val_loss: 0.1558\n",
      "Epoch 18/100\n",
      "4750/4750 [==============================] - 0s 45us/sample - loss: 0.1533 - val_loss: 0.1505\n",
      "Epoch 19/100\n",
      "4750/4750 [==============================] - 0s 42us/sample - loss: 0.1534 - val_loss: 0.1496\n",
      "Epoch 20/100\n",
      "4750/4750 [==============================] - 0s 43us/sample - loss: 0.1537 - val_loss: 0.1483\n",
      "Epoch 21/100\n",
      "4750/4750 [==============================] - 0s 42us/sample - loss: 0.1528 - val_loss: 0.1539\n",
      "Epoch 22/100\n",
      "4750/4750 [==============================] - 0s 43us/sample - loss: 0.1527 - val_loss: 0.1519\n",
      "Epoch 23/100\n",
      "4750/4750 [==============================] - 0s 44us/sample - loss: 0.1526 - val_loss: 0.1511\n",
      "Epoch 24/100\n",
      "4750/4750 [==============================] - 0s 44us/sample - loss: 0.1523 - val_loss: 0.1512\n",
      "Epoch 25/100\n",
      "4750/4750 [==============================] - 0s 40us/sample - loss: 0.1522 - val_loss: 0.1526\n"
     ]
    }
   ],
   "source": [
    "es_cb = EarlyStopping(monitor=\"val_loss\", patience=5)\n",
    "\n",
    "model = get_model()\n",
    "preds_on_untrained = model.predict(x_test)\n",
    "\n",
    "history = model.fit(\n",
    "    x_train, y_train,\n",
    "    validation_data = (x_test, y_test),\n",
    "    epochs = 100,\n",
    "    callbacks = [es_cb]\n",
    ")"
   ]
  },
  {
   "cell_type": "markdown",
   "metadata": {},
   "source": [
    "## 6.2: Plot Training and Validation Loss\n",
    "\n",
    "Let's use the `plot_loss` helper function to take a look training and validation loss."
   ]
  },
  {
   "cell_type": "code",
   "execution_count": 22,
   "metadata": {},
   "outputs": [
    {
     "data": {
      "image/png": "[encoded data removed]",
      "text/plain": [
       "<Figure size 576x576 with 1 Axes>"
      ]
     },
     "metadata": {
      "needs_background": "light"
     },
     "output_type": "display_data"
    }
   ],
   "source": [
    "plot_loss(history)"
   ]
  },
  {
   "cell_type": "markdown",
   "metadata": {},
   "source": [
    "# Task 7: Predictions"
   ]
  },
  {
   "cell_type": "markdown",
   "metadata": {},
   "source": [
    "## 7.1: Plot Raw Predictions\n",
    "\n",
    "Let's use the `compare_predictions` helper function to compare predictions from the model when it was untrained and when it was trained."
   ]
  },
  {
   "cell_type": "code",
   "execution_count": 24,
   "metadata": {},
   "outputs": [
    {
     "data": {
      "image/png": "[encoded data removed]",
      "text/plain": [
       "<Figure size 576x576 with 1 Axes>"
      ]
     },
     "metadata": {
      "needs_background": "light"
     },
     "output_type": "display_data"
    }
   ],
   "source": [
    "preds_on_trained = model.predict(x_test)\n",
    "compare_predictions(preds_on_untrained, preds_on_trained, y_test)"
   ]
  },
  {
   "cell_type": "markdown",
   "metadata": {},
   "source": [
    "## 7.2: Plot Price Predictions\n",
    "\n",
    "The plot for price predictions and raw predictions will look the same with just one difference: The x and y axis scale is changed."
   ]
  },
  {
   "cell_type": "code",
   "execution_count": 25,
   "metadata": {},
   "outputs": [
    {
     "data": {
      "image/png": "[encoded data removed]",
      "text/plain": [
       "<Figure size 576x576 with 1 Axes>"
      ]
     },
     "metadata": {
      "needs_background": "light"
     },
     "output_type": "display_data"
    }
   ],
   "source": [
    "price_untrained = [convert_label_value(y) for y in preds_on_untrained]\n",
    "price_trained = [convert_label_value(y) for y in preds_on_trained]\n",
    "price_test = [convert_label_value(y) for y in y_test]\n",
    "\n",
    "compare_predictions(price_untrained, price_trained, price_test)"
   ]
  },
  {
   "cell_type": "code",
   "execution_count": null,
   "metadata": {},
   "outputs": [],
   "source": []
  }
 ],
 "metadata": {
  "kernelspec": {
   "display_name": "Python 3",
   "language": "python",
   "name": "python3"
  },
  "language_info": {
   "codemirror_mode": {
    "name": "ipython",
    "version": 3
   },
   "file_extension": ".py",
   "mimetype": "text/x-python",
   "name": "python",
   "nbconvert_exporter": "python",
   "pygments_lexer": "ipython3",
   "version": "3.7.3"
  }
 },
 "nbformat": 4,
 "nbformat_minor": 2
}
